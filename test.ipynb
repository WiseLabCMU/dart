{
 "cells": [
  {
   "cell_type": "code",
   "execution_count": 1,
   "metadata": {},
   "outputs": [
    {
     "ename": "RuntimeError",
     "evalue": "The size of tensor a (2500) must match the size of tensor b (360) at non-singleton dimension 1",
     "output_type": "error",
     "traceback": [
      "\u001b[1;31m---------------------------------------------------------------------------\u001b[0m",
      "\u001b[1;31mRuntimeError\u001b[0m                              Traceback (most recent call last)",
      "\u001b[1;32mc:\\Users\\John\\Git\\dart\\test.ipynb Cell 1\u001b[0m in \u001b[0;36m<cell line: 16>\u001b[1;34m()\u001b[0m\n\u001b[0;32m     <a href='vscode-notebook-cell:/c%3A/Users/John/Git/dart/test.ipynb#W2sZmlsZQ%3D%3D?line=15'>16</a>\u001b[0m \u001b[39mfor\u001b[39;00m t \u001b[39min\u001b[39;00m \u001b[39mrange\u001b[39m(traj\u001b[39m.\u001b[39mtimestamp\u001b[39m.\u001b[39mshape[\u001b[39m0\u001b[39m]):\n\u001b[0;32m     <a href='vscode-notebook-cell:/c%3A/Users/John/Git/dart/test.ipynb#W2sZmlsZQ%3D%3D?line=16'>17</a>\u001b[0m     pose \u001b[39m=\u001b[39m make_pose(traj\u001b[39m.\u001b[39mvelocity[t, :], traj\u001b[39m.\u001b[39mposition[t, :], traj\u001b[39m.\u001b[39morientation[t, :, :])\n\u001b[1;32m---> <a href='vscode-notebook-cell:/c%3A/Users/John/Git/dart/test.ipynb#W2sZmlsZQ%3D%3D?line=17'>18</a>\u001b[0m     frame \u001b[39m=\u001b[39m render(sigma, r, d, pose)\n\u001b[0;32m     <a href='vscode-notebook-cell:/c%3A/Users/John/Git/dart/test.ipynb#W2sZmlsZQ%3D%3D?line=18'>19</a>\u001b[0m     plt\u001b[39m.\u001b[39mimshow(frame)\n",
      "File \u001b[1;32mc:\\Users\\John\\Git\\dart\\integration.py:28\u001b[0m, in \u001b[0;36mrender\u001b[1;34m(sigma, r, d, pose, n, k)\u001b[0m\n\u001b[0;32m     10\u001b[0m \u001b[39m\"\"\"Render radar image for range x doppler bins.\u001b[39;00m\n\u001b[0;32m     11\u001b[0m \n\u001b[0;32m     12\u001b[0m \u001b[39mParameters\u001b[39;00m\n\u001b[1;32m   (...)\u001b[0m\n\u001b[0;32m     25\u001b[0m \u001b[39m    Number of samples for stochastic integration.\u001b[39;00m\n\u001b[0;32m     26\u001b[0m \u001b[39m\"\"\"\u001b[39;00m\n\u001b[0;32m     27\u001b[0m rr, dd \u001b[39m=\u001b[39m torch\u001b[39m.\u001b[39mmeshgrid(r, d, indexing\u001b[39m=\u001b[39m\u001b[39m'\u001b[39m\u001b[39mij\u001b[39m\u001b[39m'\u001b[39m)\n\u001b[1;32m---> 28\u001b[0m \u001b[39mreturn\u001b[39;00m stochastic_integration(\n\u001b[0;32m     29\u001b[0m     sigma, rr\u001b[39m.\u001b[39;49mreshape(\u001b[39m-\u001b[39;49m\u001b[39m1\u001b[39;49m), dd\u001b[39m.\u001b[39;49mreshape(\u001b[39m-\u001b[39;49m\u001b[39m1\u001b[39;49m), pose, n\u001b[39m=\u001b[39;49mn, k\u001b[39m=\u001b[39;49mk\n\u001b[0;32m     30\u001b[0m )\u001b[39m.\u001b[39mreshape(\u001b[39mlen\u001b[39m(r), \u001b[39mlen\u001b[39m(d))\n",
      "File \u001b[1;32mc:\\Users\\John\\Git\\dart\\integration.py:58\u001b[0m, in \u001b[0;36mstochastic_integration\u001b[1;34m(sigma, r, d, pose, n, k)\u001b[0m\n\u001b[0;32m     42\u001b[0m \u001b[39m\"\"\"Stochastic integration over the field sigma.\u001b[39;00m\n\u001b[0;32m     43\u001b[0m \n\u001b[0;32m     44\u001b[0m \u001b[39mParameters\u001b[39;00m\n\u001b[1;32m   (...)\u001b[0m\n\u001b[0;32m     55\u001b[0m \u001b[39m    Number of samples for stochastic integration.\u001b[39;00m\n\u001b[0;32m     56\u001b[0m \u001b[39m\"\"\"\u001b[39;00m\n\u001b[0;32m     57\u001b[0m batch \u001b[39m=\u001b[39m r\u001b[39m.\u001b[39mshape[\u001b[39m0\u001b[39m]\n\u001b[1;32m---> 58\u001b[0m samples, weights \u001b[39m=\u001b[39m sample_points(r, d, pose, n\u001b[39m=\u001b[39;49mn, k\u001b[39m=\u001b[39;49mk)\n\u001b[0;32m     60\u001b[0m s_hat \u001b[39m=\u001b[39m sigma(samples\u001b[39m.\u001b[39mreshape(\u001b[39m-\u001b[39m\u001b[39m1\u001b[39m, \u001b[39m3\u001b[39m))\u001b[39m.\u001b[39mreshape(batch, k)\n\u001b[0;32m     61\u001b[0m \u001b[39mreturn\u001b[39;00m torch\u001b[39m.\u001b[39mmean(s_hat, axis\u001b[39m=\u001b[39m\u001b[39m1\u001b[39m) \u001b[39m*\u001b[39m \u001b[39m2\u001b[39m \u001b[39m*\u001b[39m torch\u001b[39m.\u001b[39mpi \u001b[39m*\u001b[39m r \u001b[39m*\u001b[39m weights \u001b[39m/\u001b[39m n\n",
      "File \u001b[1;32mc:\\Users\\John\\Git\\dart\\sample.py:149\u001b[0m, in \u001b[0;36msample_points\u001b[1;34m(r, d, pose, n, k)\u001b[0m\n\u001b[0;32m    125\u001b[0m \u001b[39m\"\"\"Sample points from projection.\u001b[39;00m\n\u001b[0;32m    126\u001b[0m \n\u001b[0;32m    127\u001b[0m \u001b[39mPoints are sampled IID from the valid bins (for now).\u001b[39;00m\n\u001b[1;32m   (...)\u001b[0m\n\u001b[0;32m    146\u001b[0m \u001b[39m    [1] Number of bins; use as the weight.\u001b[39;00m\n\u001b[0;32m    147\u001b[0m \u001b[39m\"\"\"\u001b[39;00m\n\u001b[0;32m    148\u001b[0m psi \u001b[39m=\u001b[39m torch\u001b[39m.\u001b[39marange(n) \u001b[39m/\u001b[39m n \u001b[39m*\u001b[39m \u001b[39m2\u001b[39m \u001b[39m*\u001b[39m torch\u001b[39m.\u001b[39mpi\n\u001b[1;32m--> 149\u001b[0m valid \u001b[39m=\u001b[39m valid_mask(r, d, psi, pose)\u001b[39m.\u001b[39mtype(torch\u001b[39m.\u001b[39mfloat32)\n\u001b[0;32m    151\u001b[0m bin_width \u001b[39m=\u001b[39m \u001b[39m2\u001b[39m \u001b[39m*\u001b[39m np\u001b[39m.\u001b[39mpi \u001b[39m/\u001b[39m n\n\u001b[0;32m    152\u001b[0m offsets \u001b[39m=\u001b[39m (torch\u001b[39m.\u001b[39mrand(k) \u001b[39m-\u001b[39m \u001b[39m0.5\u001b[39m) \u001b[39m*\u001b[39m bin_width\n",
      "File \u001b[1;32mc:\\Users\\John\\Git\\dart\\sample.py:112\u001b[0m, in \u001b[0;36mvalid_mask\u001b[1;34m(r, d, psi, pose)\u001b[0m\n\u001b[0;32m    103\u001b[0m \u001b[39mdef\u001b[39;00m \u001b[39mvalid_mask\u001b[39m(\n\u001b[0;32m    104\u001b[0m         r: torch\u001b[39m.\u001b[39mTensor, d: torch\u001b[39m.\u001b[39mTensor, psi: torch\u001b[39m.\u001b[39mTensor, pose: Pose):\n\u001b[0;32m    105\u001b[0m     \u001b[39m\"\"\"Get valid psi values as a mask.\u001b[39;00m\n\u001b[0;32m    106\u001b[0m \n\u001b[0;32m    107\u001b[0m \u001b[39m    Returns\u001b[39;00m\n\u001b[1;32m   (...)\u001b[0m\n\u001b[0;32m    110\u001b[0m \u001b[39m        Output mask for each bin.\u001b[39;00m\n\u001b[0;32m    111\u001b[0m \u001b[39m    \"\"\"\u001b[39;00m\n\u001b[1;32m--> 112\u001b[0m     x, y, z \u001b[39m=\u001b[39m project(r, d, psi, pose)\n\u001b[0;32m    114\u001b[0m     theta \u001b[39m=\u001b[39m torch\u001b[39m.\u001b[39marcsin(z \u001b[39m/\u001b[39m r)\n\u001b[0;32m    115\u001b[0m     phi \u001b[39m=\u001b[39m torch\u001b[39m.\u001b[39marcsin(y \u001b[39m/\u001b[39m r \u001b[39m*\u001b[39m torch\u001b[39m.\u001b[39mcos(theta))\n",
      "File \u001b[1;32mc:\\Users\\John\\Git\\dart\\sample.py:97\u001b[0m, in \u001b[0;36mproject\u001b[1;34m(r, d, psi, pose)\u001b[0m\n\u001b[0;32m     93\u001b[0m r_prime \u001b[39m=\u001b[39m torch\u001b[39m.\u001b[39msqrt(\u001b[39m1\u001b[39m \u001b[39m-\u001b[39m (r \u001b[39m/\u001b[39m pose\u001b[39m.\u001b[39ms)\u001b[39m*\u001b[39m\u001b[39m*\u001b[39m\u001b[39m2\u001b[39m)\n\u001b[0;32m     95\u001b[0m \u001b[39m# psi is (1, k); p, q are (3, 1)\u001b[39;00m\n\u001b[0;32m     96\u001b[0m \u001b[39mreturn\u001b[39;00m r \u001b[39m*\u001b[39m (\n\u001b[1;32m---> 97\u001b[0m     r_prime \u001b[39m*\u001b[39;49m (\n\u001b[0;32m     98\u001b[0m         pose\u001b[39m.\u001b[39;49mp\u001b[39m.\u001b[39;49mreshape(\u001b[39m3\u001b[39;49m, \u001b[39m1\u001b[39;49m) \u001b[39m*\u001b[39;49m torch\u001b[39m.\u001b[39;49mcos(psi)\n\u001b[0;32m     99\u001b[0m         \u001b[39m+\u001b[39;49m pose\u001b[39m.\u001b[39;49mq\u001b[39m.\u001b[39;49mreshape(\u001b[39m3\u001b[39;49m, \u001b[39m1\u001b[39;49m) \u001b[39m*\u001b[39;49m torch\u001b[39m.\u001b[39;49msin(psi))\n\u001b[0;32m    100\u001b[0m     \u001b[39m+\u001b[39m pose\u001b[39m.\u001b[39mv\u001b[39m.\u001b[39mreshape(\u001b[39m3\u001b[39m, \u001b[39m1\u001b[39m) \u001b[39m*\u001b[39m d \u001b[39m/\u001b[39m pose\u001b[39m.\u001b[39ms)\n",
      "\u001b[1;31mRuntimeError\u001b[0m: The size of tensor a (2500) must match the size of tensor b (360) at non-singleton dimension 1"
     ]
    }
   ],
   "source": [
    "from matplotlib import pyplot as plt\n",
    "import numpy as np\n",
    "\n",
    "import torch\n",
    "from groundtruth import Map3d, Trajectory\n",
    "from integration import render\n",
    "from sample import make_pose\n",
    "\n",
    "map = Map3d('data/map.mat')\n",
    "traj = Trajectory('data/traj.mat')\n",
    "sigma = map.get_sigma()\n",
    "\n",
    "r = torch.linspace(0, 10, 50)\n",
    "d = torch.linspace(-5, 5, 50)\n",
    "\n",
    "for t in range(traj.timestamp.shape[0]):\n",
    "    pose = make_pose(traj.velocity[t, :].squeeze(), traj.position[t, :].squeeze(), traj.orientation[t, :, :].squeeze())\n",
    "    frame = render(sigma, r, d, pose)\n",
    "    plt.imshow(frame)\n"
   ]
  }
 ],
 "metadata": {
  "kernelspec": {
   "display_name": "Python 3.10.8 ('dart')",
   "language": "python",
   "name": "python3"
  },
  "language_info": {
   "codemirror_mode": {
    "name": "ipython",
    "version": 3
   },
   "file_extension": ".py",
   "mimetype": "text/x-python",
   "name": "python",
   "nbconvert_exporter": "python",
   "pygments_lexer": "ipython3",
   "version": "3.10.8"
  },
  "orig_nbformat": 4,
  "vscode": {
   "interpreter": {
    "hash": "733174bc53cea3b6bc3d10337ae4ce0cafbe82510b1cfc49932f414af0326a66"
   }
  }
 },
 "nbformat": 4,
 "nbformat_minor": 2
}
