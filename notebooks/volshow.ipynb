{
 "cells": [
  {
   "cell_type": "code",
   "execution_count": 1,
   "metadata": {},
   "outputs": [
    {
     "name": "stdout",
     "output_type": "stream",
     "text": [
      "/home/tianshu/Documents/dart\n"
     ]
    }
   ],
   "source": [
    "%cd .."
   ]
  },
  {
   "cell_type": "code",
   "execution_count": 2,
   "metadata": {},
   "outputs": [],
   "source": [
    "from scipy.io import loadmat\n",
    "import numpy as np\n",
    "import ipyvolume as ipv\n",
    "\n",
    "mapfile = loadmat(\"results-archive/06-09-2023/cichall/map.mat\")\n",
    "sigma = np.swapaxes(mapfile[\"sigma\"], 0, 2)\n",
    "sigma = np.swapaxes(sigma, 1, 2)\n",
    "sigma = np.flip(sigma, axis=1)\n",
    "\n",
    "extents = np.concatenate([mapfile[\"lower\"], mapfile[\"upper\"]]).T.tolist()\n",
    "\n",
    "sigma = np.clip(sigma, *np.percentile(sigma, (1, 99)))\n",
    "bounds = (np.min(mapfile[\"lower\"]), np.max(mapfile[\"upper\"]))"
   ]
  },
  {
   "cell_type": "code",
   "execution_count": 3,
   "metadata": {},
   "outputs": [
    {
     "data": {
      "application/vnd.jupyter.widget-view+json": {
       "model_id": "ad3a3db4997f4367b7acef10cf32314e",
       "version_major": 2,
       "version_minor": 0
      },
      "text/plain": [
       "Container(figure=Figure(box_center=[0.5, 0.5, 0.5], box_size=[1.0, 1.0, 1.0], camera=PerspectiveCamera(fov=45.…"
      ]
     },
     "metadata": {},
     "output_type": "display_data"
    }
   ],
   "source": [
    "ipv.figure(width=1920, height=1080, controls_vr=False, debug=False, controls=False)\n",
    "ipv.volshow(\n",
    "    sigma, extent=extents, level=[0.25, 0.5, 0.75],\n",
    "    opacity=[0.02, 0.1, 0.2], controls=False)\n",
    "\n",
    "ipv.zlim(*bounds)\n",
    "ipv.ylim(*bounds)\n",
    "ipv.zlim(*bounds)\n",
    "ipv.show()"
   ]
  }
 ],
 "metadata": {
  "kernelspec": {
   "display_name": "Python 3 (ipykernel)",
   "language": "python",
   "name": "python3"
  },
  "language_info": {
   "codemirror_mode": {
    "name": "ipython",
    "version": 3
   },
   "file_extension": ".py",
   "mimetype": "text/x-python",
   "name": "python",
   "nbconvert_exporter": "python",
   "pygments_lexer": "ipython3",
   "version": "3.11.3"
  }
 },
 "nbformat": 4,
 "nbformat_minor": 2
}
