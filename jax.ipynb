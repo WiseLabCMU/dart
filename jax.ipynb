{
 "cells": [
  {
   "cell_type": "markdown",
   "metadata": {},
   "source": [
    "# Building Blocks for JAX Implementation"
   ]
  },
  {
   "cell_type": "code",
   "execution_count": 1,
   "metadata": {},
   "outputs": [],
   "source": [
    "from jax import numpy as jnp\n",
    "from jax import vmap, jit\n",
    "from matplotlib import pyplot as plt\n",
    "\n",
    "from functools import partial"
   ]
  },
  {
   "cell_type": "code",
   "execution_count": null,
   "metadata": {},
   "outputs": [],
   "source": [
    "class NGPHashTable:\n",
    "    \"\"\"Single hash table for NGP field.\n",
    "\n",
    "    References\n",
    "    ----------\n",
    "    [1] Muller et al, \"Instant Neural Graphics Primitives with a Multiresolution\n",
    "        Hash Encoding,\" 2022.\n",
    "    \"\"\"\n",
    "\n",
    "    def __init__(self, size):\n",
    "        self.size = size\n",
    "\n",
    "    def hash(self, x):\n",
    "        \"\"\"Apply hash function specified by NGP (Eq. 4 [1])\"\"\"\n",
    "        pi2 = 2654435761\n",
    "        pi3 = 805459861\n",
    "\n",
    "        return (x[0] + x[1] * pi2 + x[2] * pi3) % self.size"
   ]
  },
  {
   "cell_type": "code",
   "execution_count": 9,
   "metadata": {},
   "outputs": [],
   "source": [
    "def interpolate(x, grid=None):\n",
    "    \"\"\"Trilinear 3D Interpolation; this function is jit and vmap-safe.\n",
    "\n",
    "    Parameters\n",
    "    ----------\n",
    "    x : float[3]\n",
    "        Coordinates relative to the grid. Should have 0 <= x <= grid.shape.\n",
    "    grid : callable(int[8, 3]) -> float[nd] or float[nx, ny, nz]\n",
    "        Grid accessor function; the function is responsible for its own\n",
    "        vectorization. If passed as just an array, accesses naively.\n",
    "        The function should return a vector, which is interpolated.\n",
    "\n",
    "    Returns\n",
    "    -------\n",
    "    float\n",
    "        Scalar interpolated value.\n",
    "    \"\"\"\n",
    "    # 8 corners\n",
    "    mask = ((\n",
    "        jnp.arange(8).reshape(-1, 1)\n",
    "        & jnp.left_shift(1, jnp.arange(3)).reshape(1, -1)\n",
    "    ) != 0).astype(int)\n",
    "    # Bound\n",
    "    bounds = jnp.stack([jnp.floor(x), jnp.ceil(x)]).astype(int)\n",
    "    # Corner values\n",
    "    c = bounds[mask, [0, 1, 2]]\n",
    "    if isinstance(grid, jnp.DeviceArray):\n",
    "        values = grid[c[:, 0], c[:, 1], c[:, 2]].reshape(8, -1)\n",
    "    else:\n",
    "        values = grid(c).reshape(8, -1)\n",
    "    # Distances from opposite corner (same coord -> make weight 1)\n",
    "    dist = jnp.abs(bounds[1 - mask, [0, 1, 2]].astype(float) - x)\n",
    "    dist += (dist == 0)\n",
    "    # Weights\n",
    "    weights = jnp.prod(dist, axis=1).reshape(8, -1)\n",
    "    return jnp.sum(values * weights / jnp.sum(weights), axis=0)"
   ]
  },
  {
   "cell_type": "code",
   "execution_count": 13,
   "metadata": {},
   "outputs": [
    {
     "data": {
      "text/plain": [
       "<matplotlib.image.AxesImage at 0x7f129d409ed0>"
      ]
     },
     "execution_count": 13,
     "metadata": {},
     "output_type": "execute_result"
    },
    {
     "data": {
      "image/png": "[encoded data removed]",
      "text/plain": [
       "<Figure size 432x288 with 1 Axes>"
      ]
     },
     "metadata": {
      "needs_background": "light"
     },
     "output_type": "display_data"
    }
   ],
   "source": [
    "n = 100\n",
    "grid = jnp.stack([jnp.eye(10).reshape(10, 10, 1) for _ in range(3)])\n",
    "_x, _y = jnp.meshgrid(jnp.linspace(0, 9, n), jnp.linspace(0, 9, n))\n",
    "_z = jnp.zeros_like(_y) + 4.5\n",
    "x = jnp.stack([_z.reshape(-1), _x.reshape(-1), _y.reshape(-1)]).T\n",
    "\n",
    "res = vmap(partial(interpolate, grid=grid))(x)\n",
    "plt.imshow(res[:, 0].reshape(n, n))\n"
   ]
  }
 ],
 "metadata": {
  "kernelspec": {
   "display_name": "Python 3.10.4 ('jax')",
   "language": "python",
   "name": "python3"
  },
  "language_info": {
   "codemirror_mode": {
    "name": "ipython",
    "version": 3
   },
   "file_extension": ".py",
   "mimetype": "text/x-python",
   "name": "python",
   "nbconvert_exporter": "python",
   "pygments_lexer": "ipython3",
   "version": "3.10.4"
  },
  "orig_nbformat": 4,
  "vscode": {
   "interpreter": {
    "hash": "88fd24342e22208d2e9754f406d78056362ce806e0799f06c9a602aee1031769"
   }
  }
 },
 "nbformat": 4,
 "nbformat_minor": 2
}
