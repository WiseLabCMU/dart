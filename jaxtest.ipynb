{
 "cells": [
  {
   "cell_type": "code",
   "execution_count": 1,
   "metadata": {},
   "outputs": [],
   "source": [
    "from jax import numpy as jnp\n",
    "from jax import vmap, jit\n",
    "from matplotlib import pyplot as plt\n",
    "\n",
    "from functools import partial"
   ]
  },
  {
   "cell_type": "code",
   "execution_count": 2,
   "metadata": {},
   "outputs": [],
   "source": [
    "class NGPHashTable:\n",
    "    \"\"\"Single hash table for NGP field.\n",
    "\n",
    "    References\n",
    "    ----------\n",
    "    [1] Muller et al, \"Instant Neural Graphics Primitives with a Multiresolution\n",
    "        Hash Encoding,\" 2022.\n",
    "    \"\"\"\n",
    "\n",
    "    def __init__(self, size):\n",
    "        self.size = size\n",
    "\n",
    "    def hash(self, x):\n",
    "        \"\"\"Apply hash function specified by NGP (Eq. 4 [1])\"\"\"\n",
    "        pi2 = 2654435761\n",
    "        pi3 = 805459861\n",
    "\n",
    "        return (x[0] + x[1] * pi2 + x[2] * pi3) % self.size"
   ]
  },
  {
   "cell_type": "code",
   "execution_count": 1,
   "metadata": {},
   "outputs": [],
   "source": [
    "from scipy.io import loadmat\n",
    "\n",
    "x = loadmat(\"data/map.mat\")"
   ]
  },
  {
   "cell_type": "code",
   "execution_count": 10,
   "metadata": {},
   "outputs": [],
   "source": [
    "traj = loadmat(\"data/traj.mat\")"
   ]
  },
  {
   "cell_type": "code",
   "execution_count": 13,
   "metadata": {},
   "outputs": [
    {
     "data": {
      "text/plain": [
       "array([[[ 0.70710678,  0.70710678,  0.        ],\n",
       "        [-0.70710678,  0.70710678, -0.        ],\n",
       "        [-0.        ,  0.        ,  1.        ]],\n",
       "\n",
       "       [[ 0.70710801,  0.70710555,  0.        ],\n",
       "        [-0.70710555,  0.70710801, -0.        ],\n",
       "        [-0.        ,  0.        ,  1.        ]],\n",
       "\n",
       "       [[ 0.7071117 ,  0.70710186,  0.        ],\n",
       "        [-0.70710186,  0.7071117 , -0.        ],\n",
       "        [-0.        ,  0.        ,  1.        ]],\n",
       "\n",
       "       ...,\n",
       "\n",
       "       [[ 0.70709571,  0.70711785,  0.        ],\n",
       "        [-0.70711785,  0.70709571, -0.        ],\n",
       "        [-0.        ,  0.        ,  1.        ]],\n",
       "\n",
       "       [[ 0.70710186,  0.7071117 ,  0.        ],\n",
       "        [-0.7071117 ,  0.70710186, -0.        ],\n",
       "        [-0.        ,  0.        ,  1.        ]],\n",
       "\n",
       "       [[ 0.70710555,  0.70710801,  0.        ],\n",
       "        [-0.70710801,  0.70710555, -0.        ],\n",
       "        [-0.        ,  0.        ,  1.        ]]])"
      ]
     },
     "execution_count": 13,
     "metadata": {},
     "output_type": "execute_result"
    }
   ],
   "source": [
    "traj[\"orientation\"]"
   ]
  }
 ],
 "metadata": {
  "kernelspec": {
   "display_name": "Python 3.10.4 ('jax')",
   "language": "python",
   "name": "python3"
  },
  "language_info": {
   "codemirror_mode": {
    "name": "ipython",
    "version": 3
   },
   "file_extension": ".py",
   "mimetype": "text/x-python",
   "name": "python",
   "nbconvert_exporter": "python",
   "pygments_lexer": "ipython3",
   "version": "3.10.8"
  },
  "orig_nbformat": 4,
  "vscode": {
   "interpreter": {
    "hash": "88fd24342e22208d2e9754f406d78056362ce806e0799f06c9a602aee1031769"
   }
  }
 },
 "nbformat": 4,
 "nbformat_minor": 2
}
